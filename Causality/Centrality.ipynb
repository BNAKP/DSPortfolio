{
 "cells": [
  {
   "cell_type": "markdown",
   "id": "6e114713",
   "metadata": {},
   "source": [
    "# Import Library"
   ]
  },
  {
   "cell_type": "code",
   "execution_count": 40,
   "id": "28d760e3",
   "metadata": {},
   "outputs": [],
   "source": [
    "import pandas as pd\n",
    "import networkx as nx"
   ]
  },
  {
   "cell_type": "markdown",
   "id": "e83fc073",
   "metadata": {},
   "source": [
    "## Import data"
   ]
  },
  {
   "cell_type": "code",
   "execution_count": 2,
   "id": "569dcb5f",
   "metadata": {},
   "outputs": [],
   "source": [
    "rawData = pd.read_excel(r'/Users/bkemp/Data Science/Project/Data/Goal1.xlsx','Goal1')\n",
    "#pd.read_excel(r'filepath.xlsx','Excel sheet name')"
   ]
  },
  {
   "cell_type": "code",
   "execution_count": 24,
   "id": "d9aee596",
   "metadata": {},
   "outputs": [],
   "source": [
    "rawData;"
   ]
  },
  {
   "cell_type": "markdown",
   "id": "2b6c29c9",
   "metadata": {},
   "source": [
    "## Drop rows not needed"
   ]
  },
  {
   "cell_type": "code",
   "execution_count": 4,
   "id": "3ab6a47e",
   "metadata": {},
   "outputs": [],
   "source": [
    "rawData.drop(columns=['Goal','Target','SeriesDescription','GeoAreaCode','GeoAreaName','Time_Detail','TimeCoverage','UpperBound','LowerBound','BasePeriod','Source','GeoInfoUrl','FootNote','Nature','Reporting Type','Units'],axis=1,inplace=True)"
   ]
  },
  {
   "cell_type": "code",
   "execution_count": 23,
   "id": "c2d7f6d3",
   "metadata": {},
   "outputs": [],
   "source": [
    "rawData;"
   ]
  },
  {
   "cell_type": "markdown",
   "id": "7cd5d0e3",
   "metadata": {},
   "source": [
    "## Pivot Data"
   ]
  },
  {
   "cell_type": "code",
   "execution_count": 6,
   "id": "ed37ab4c",
   "metadata": {},
   "outputs": [],
   "source": [
    "Data=rawData.pivot(index='TimePeriod',columns=['Indicator','SeriesCode','Quantile','Location','Age','Sex'],values='Value')"
   ]
  },
  {
   "cell_type": "code",
   "execution_count": 22,
   "id": "ef297944",
   "metadata": {},
   "outputs": [],
   "source": [
    "Data;"
   ]
  },
  {
   "cell_type": "markdown",
   "id": "074fdbc5",
   "metadata": {},
   "source": [
    "### Drop columns with less than 3 values (correlation only made with indicators with at least 3 values)"
   ]
  },
  {
   "cell_type": "code",
   "execution_count": 8,
   "id": "e9221d8a",
   "metadata": {},
   "outputs": [],
   "source": [
    "Data.dropna(axis=1,thresh=3,inplace=True)"
   ]
  },
  {
   "cell_type": "code",
   "execution_count": 20,
   "id": "f25d0bd9",
   "metadata": {},
   "outputs": [],
   "source": [
    "Data;"
   ]
  },
  {
   "cell_type": "markdown",
   "id": "6d941b52",
   "metadata": {},
   "source": [
    "## Need to apply sign (+/-) to data"
   ]
  },
  {
   "cell_type": "code",
   "execution_count": null,
   "id": "1a9424fa",
   "metadata": {},
   "outputs": [],
   "source": []
  },
  {
   "cell_type": "markdown",
   "id": "b4fae3f9",
   "metadata": {},
   "source": [
    "## Create new dataframe"
   ]
  },
  {
   "cell_type": "code",
   "execution_count": 12,
   "id": "df1784ff",
   "metadata": {},
   "outputs": [],
   "source": [
    "#Getting years from original data\n",
    "Years=Data.index.values"
   ]
  },
  {
   "cell_type": "code",
   "execution_count": 14,
   "id": "5feb0954",
   "metadata": {},
   "outputs": [],
   "source": [
    "#Creating first column of new dataframe (to check code works and makes it easier to add new columns)\n",
    "col1=Data.iloc[:,0]\n",
    "col1val=col1.values\n",
    "col1name=col1.name\n",
    "col1code=col1name[1]+'--'\n",
    "\n",
    "for n in range(len(col1name)-2):\n",
    "    if type(col1name[n+2]) == str:\n",
    "        col1code=col1code+col1name[n+2]+'_'\n",
    "        \n",
    "        \n",
    "cleanData=pd.DataFrame(col1val,index=Years,columns=[[col1name[0]],[col1code]])"
   ]
  },
  {
   "cell_type": "code",
   "execution_count": 16,
   "id": "d18ba89f",
   "metadata": {},
   "outputs": [],
   "source": [
    "#Adding remaining columns to dataframe\n",
    "for k in range(1,len(Data.columns)-1):\n",
    "    colname=Data.iloc[:,k].name\n",
    "    colcode=colname[1]+'--'\n",
    "    for n in range(len(colname)-2):\n",
    "        if type(colname[n+2]) == str:\n",
    "            colcode=colcode+colname[n+2]+'_'\n",
    "    cleanData[colname[0],colcode]=Data.iloc[:,k].values"
   ]
  },
  {
   "cell_type": "code",
   "execution_count": 21,
   "id": "fb4d5805",
   "metadata": {},
   "outputs": [],
   "source": [
    "cleanData;"
   ]
  },
  {
   "cell_type": "markdown",
   "id": "348cce0d",
   "metadata": {},
   "source": [
    "## Perform correlation"
   ]
  },
  {
   "cell_type": "code",
   "execution_count": 18,
   "id": "ced24525",
   "metadata": {},
   "outputs": [],
   "source": [
    "corrmat=cleanData.corr(method=\"spearman\")"
   ]
  },
  {
   "cell_type": "code",
   "execution_count": 25,
   "id": "01e7aa88",
   "metadata": {},
   "outputs": [],
   "source": [
    "corrmat;"
   ]
  },
  {
   "cell_type": "markdown",
   "id": "5b88106f",
   "metadata": {},
   "source": [
    "## Perform centrality"
   ]
  },
  {
   "cell_type": "code",
   "execution_count": 28,
   "id": "9fa4b567",
   "metadata": {},
   "outputs": [],
   "source": [
    "G=nx.Graph()"
   ]
  },
  {
   "cell_type": "code",
   "execution_count": 31,
   "id": "135ff46b",
   "metadata": {},
   "outputs": [],
   "source": [
    "#values\n",
    "netval=corrmat.values\n",
    "netval;"
   ]
  },
  {
   "cell_type": "code",
   "execution_count": 33,
   "id": "1628d8ff",
   "metadata": {},
   "outputs": [],
   "source": [
    "#Nodes/Headers\n",
    "netnodes=corrmat.index\n",
    "netNode = []\n",
    "\n",
    "for j in range(0,len(netnodes)):\n",
    "    netNode.append(netnodes[j][1])"
   ]
  },
  {
   "cell_type": "code",
   "execution_count": 35,
   "id": "bd45d3c0",
   "metadata": {},
   "outputs": [],
   "source": [
    "netNode;"
   ]
  },
  {
   "cell_type": "code",
   "execution_count": 36,
   "id": "1dde19e7",
   "metadata": {},
   "outputs": [
    {
     "data": {
      "text/plain": [
       "EdgeDataView([('SI_POV_DAY1--', 'SI_POV_EMP1--25+_', {'weight': 0.9946348652168627}), ('SI_POV_DAY1--', 'SI_POV_EMP1--25+_BOTHSEX_', {'weight': 0.9964285714285714}), ('SI_POV_DAY1--', 'SI_POV_EMP1--15+_', {'weight': 0.9955321222799309}), ('SI_POV_DAY1--', 'SI_POV_EMP1--15+_BOTHSEX_', {'weight': 0.9955321222799309}), ('SI_POV_DAY1--', 'SI_POV_EMP1--15+_FEMALE_', {'weight': 0.9955321222799309}), ('SI_POV_DAY1--', 'SI_POV_EMP1--25+_FEMALE_', {'weight': 0.9982126884730385}), ('SI_POV_DAY1--', 'SI_POV_EMP1--15-24_', {'weight': 0.991057041960687}), ('SI_POV_DAY1--', 'SI_POV_EMP1--15-24_MALE_', {'weight': 0.9821428571428571}), ('SI_POV_DAY1--', 'SI_POV_EMP1--15+_MALE_', {'weight': 0.9955321222799309}), ('SI_POV_DAY1--', 'SI_POV_EMP1--25+_MALE_', {'weight': 0.9946348652168627}), ('SI_POV_DAY1--', 'SI_POV_EMP1--15-24_BOTHSEX_', {'weight': 0.9865955682199674}), ('SI_POV_DAY1--', 'SI_POV_EMP1--15-24_FEMALE_', {'weight': 0.991057041960687}), ('SI_POV_EMP1--25+_', 'SI_POV_EMP1--25+_BOTHSEX_', {'weight': 0.9987737579691625}), ('SI_POV_EMP1--25+_', 'SI_POV_EMP1--15+_', {'weight': 0.9993863147626995}), ('SI_POV_EMP1--25+_', 'SI_POV_EMP1--15+_BOTHSEX_', {'weight': 0.9993863147626995}), ('SI_POV_EMP1--25+_', 'SI_POV_EMP1--15+_FEMALE_', {'weight': 0.9993863147626995}), ('SI_POV_EMP1--25+_', 'SI_POV_EMP1--25+_FEMALE_', {'weight': 0.9987714987714987}), ('SI_POV_EMP1--25+_', 'SI_POV_EMP1--15-24_', {'weight': 0.9975429975429976}), ('SI_POV_EMP1--25+_', 'SI_POV_EMP1--15-24_MALE_', {'weight': 0.9901847944485431}), ('SI_POV_EMP1--25+_', 'SI_POV_EMP1--15+_MALE_', {'weight': 0.9993863147626995}), ('SI_POV_EMP1--25+_', 'SI_POV_EMP1--25+_MALE_', {'weight': 1.0}), ('SI_POV_EMP1--25+_', 'SI_POV_EMP1--15-24_BOTHSEX_', {'weight': 0.9938614518432496}), ('SI_POV_EMP1--25+_', 'SI_POV_EMP1--15-24_FEMALE_', {'weight': 0.9975429975429976}), ('SI_POV_EMP1--25+_BOTHSEX_', 'SI_POV_EMP1--15+_', {'weight': 0.9993870670585654}), ('SI_POV_EMP1--25+_BOTHSEX_', 'SI_POV_EMP1--15+_BOTHSEX_', {'weight': 0.9993870670585654}), ('SI_POV_EMP1--25+_BOTHSEX_', 'SI_POV_EMP1--15+_FEMALE_', {'weight': 0.9993870670585654}), ('SI_POV_EMP1--25+_BOTHSEX_', 'SI_POV_EMP1--25+_FEMALE_', {'weight': 0.9987737579691625}), ('SI_POV_EMP1--25+_BOTHSEX_', 'SI_POV_EMP1--15-24_', {'weight': 0.9963197683918427}), ('SI_POV_EMP1--25+_BOTHSEX_', 'SI_POV_EMP1--15-24_MALE_', {'weight': 0.9901960784313726}), ('SI_POV_EMP1--25+_BOTHSEX_', 'SI_POV_EMP1--15+_MALE_', {'weight': 0.9993870670585654}), ('SI_POV_EMP1--25+_BOTHSEX_', 'SI_POV_EMP1--25+_MALE_', {'weight': 0.9987737579691625}), ('SI_POV_EMP1--25+_BOTHSEX_', 'SI_POV_EMP1--15-24_BOTHSEX_', {'weight': 0.9932558580582062}), ('SI_POV_EMP1--25+_BOTHSEX_', 'SI_POV_EMP1--15-24_FEMALE_', {'weight': 0.9963197683918427}), ('SI_POV_EMP1--15+_', 'SI_POV_EMP1--15+_BOTHSEX_', {'weight': 1.0}), ('SI_POV_EMP1--15+_', 'SI_POV_EMP1--15+_FEMALE_', {'weight': 1.0}), ('SI_POV_EMP1--15+_', 'SI_POV_EMP1--25+_FEMALE_', {'weight': 0.9993863147626995}), ('SI_POV_EMP1--15+_', 'SI_POV_EMP1--15-24_', {'weight': 0.9969308201318329}), ('SI_POV_EMP1--15+_', 'SI_POV_EMP1--15-24_MALE_', {'weight': 0.9920296162581342}), ('SI_POV_EMP1--15+_', 'SI_POV_EMP1--15+_MALE_', {'weight': 1.0}), ('SI_POV_EMP1--15+_', 'SI_POV_EMP1--25+_MALE_', {'weight': 0.9993863147626995}), ('SI_POV_EMP1--15+_', 'SI_POV_EMP1--15-24_BOTHSEX_', {'weight': 0.9950920245398773}), ('SI_POV_EMP1--15+_', 'SI_POV_EMP1--15-24_FEMALE_', {'weight': 0.9969308201318329}), ('SI_POV_EMP1--15+_BOTHSEX_', 'SI_POV_EMP1--15+_FEMALE_', {'weight': 1.0}), ('SI_POV_EMP1--15+_BOTHSEX_', 'SI_POV_EMP1--25+_FEMALE_', {'weight': 0.9993863147626995}), ('SI_POV_EMP1--15+_BOTHSEX_', 'SI_POV_EMP1--15-24_', {'weight': 0.9969308201318329}), ('SI_POV_EMP1--15+_BOTHSEX_', 'SI_POV_EMP1--15-24_MALE_', {'weight': 0.9920296162581342}), ('SI_POV_EMP1--15+_BOTHSEX_', 'SI_POV_EMP1--15+_MALE_', {'weight': 1.0}), ('SI_POV_EMP1--15+_BOTHSEX_', 'SI_POV_EMP1--25+_MALE_', {'weight': 0.9993863147626995}), ('SI_POV_EMP1--15+_BOTHSEX_', 'SI_POV_EMP1--15-24_BOTHSEX_', {'weight': 0.9950920245398773}), ('SI_POV_EMP1--15+_BOTHSEX_', 'SI_POV_EMP1--15-24_FEMALE_', {'weight': 0.9969308201318329}), ('SI_POV_EMP1--15+_FEMALE_', 'SI_POV_EMP1--25+_FEMALE_', {'weight': 0.9993863147626995}), ('SI_POV_EMP1--15+_FEMALE_', 'SI_POV_EMP1--15-24_', {'weight': 0.9969308201318329}), ('SI_POV_EMP1--15+_FEMALE_', 'SI_POV_EMP1--15-24_MALE_', {'weight': 0.9920296162581342}), ('SI_POV_EMP1--15+_FEMALE_', 'SI_POV_EMP1--15+_MALE_', {'weight': 1.0}), ('SI_POV_EMP1--15+_FEMALE_', 'SI_POV_EMP1--25+_MALE_', {'weight': 0.9993863147626995}), ('SI_POV_EMP1--15+_FEMALE_', 'SI_POV_EMP1--15-24_BOTHSEX_', {'weight': 0.9950920245398773}), ('SI_POV_EMP1--15+_FEMALE_', 'SI_POV_EMP1--15-24_FEMALE_', {'weight': 0.9969308201318329}), ('SI_POV_EMP1--25+_FEMALE_', 'SI_POV_EMP1--15-24_', {'weight': 0.9963144963144963}), ('SI_POV_EMP1--25+_FEMALE_', 'SI_POV_EMP1--15-24_MALE_', {'weight': 0.991411789237203}), ('SI_POV_EMP1--25+_FEMALE_', 'SI_POV_EMP1--15+_MALE_', {'weight': 0.9993863147626995}), ('SI_POV_EMP1--25+_FEMALE_', 'SI_POV_EMP1--25+_MALE_', {'weight': 0.9987714987714987}), ('SI_POV_EMP1--25+_FEMALE_', 'SI_POV_EMP1--15-24_BOTHSEX_', {'weight': 0.9944753255009663}), ('SI_POV_EMP1--25+_FEMALE_', 'SI_POV_EMP1--15-24_FEMALE_', {'weight': 0.9963144963144963}), ('SI_POV_EMP1--15-24_', 'SI_POV_EMP1--15-24_MALE_', {'weight': 0.9950927736031827}), ('SI_POV_EMP1--15-24_', 'SI_POV_EMP1--15+_MALE_', {'weight': 0.9969308201318329}), ('SI_POV_EMP1--15-24_', 'SI_POV_EMP1--25+_MALE_', {'weight': 0.9975429975429976}), ('SI_POV_EMP1--15-24_', 'SI_POV_EMP1--15-24_BOTHSEX_', {'weight': 0.9975446937895495}), ('SI_POV_EMP1--15-24_', 'SI_POV_EMP1--15-24_FEMALE_', {'weight': 1.0}), ('SI_POV_EMP1--15-24_MALE_', 'SI_POV_EMP1--15+_MALE_', {'weight': 0.9920296162581342}), ('SI_POV_EMP1--15-24_MALE_', 'SI_POV_EMP1--25+_MALE_', {'weight': 0.9901847944485431}), ('SI_POV_EMP1--15-24_MALE_', 'SI_POV_EMP1--15-24_BOTHSEX_', {'weight': 0.9993870670585654}), ('SI_POV_EMP1--15-24_MALE_', 'SI_POV_EMP1--15-24_FEMALE_', {'weight': 0.9950927736031827}), ('SI_POV_EMP1--15+_MALE_', 'SI_POV_EMP1--25+_MALE_', {'weight': 0.9993863147626995}), ('SI_POV_EMP1--15+_MALE_', 'SI_POV_EMP1--15-24_BOTHSEX_', {'weight': 0.9950920245398773}), ('SI_POV_EMP1--15+_MALE_', 'SI_POV_EMP1--15-24_FEMALE_', {'weight': 0.9969308201318329}), ('SI_POV_EMP1--25+_MALE_', 'SI_POV_EMP1--15-24_BOTHSEX_', {'weight': 0.9938614518432496}), ('SI_POV_EMP1--25+_MALE_', 'SI_POV_EMP1--15-24_FEMALE_', {'weight': 0.9975429975429976}), ('SI_POV_EMP1--15-24_BOTHSEX_', 'SI_POV_EMP1--15-24_FEMALE_', {'weight': 0.9975446937895495}), ('SI_COV_LMKT--Q1_', 'SP_ACS_BSRVH2O--RURAL_', {'weight': 0.7}), ('SI_COV_LMKT--Q1_', 'SP_ACS_BSRVH2O--ALLAREA_', {'weight': 0.6668859288553503}), ('SI_COV_LMKT--Q1_', 'SP_ACS_BSRVSAN--RURAL_', {'weight': 0.7}), ('SI_COV_LMKT--Q1_', 'SP_ACS_BSRVSAN--ALLAREA_', {'weight': 0.7}), ('SI_COV_LMKT--Q1_', 'SP_ACS_BSRVSAN--URBAN_', {'weight': 0.7}), ('SP_ACS_BSRVH2O--RURAL_', 'SI_COV_UEMP--BOTHSEX_', {'weight': 0.9746794344808964}), ('SP_ACS_BSRVH2O--RURAL_', 'SP_ACS_BSRVH2O--URBAN_', {'weight': 0.7910542782677079}), ('SP_ACS_BSRVH2O--RURAL_', 'SP_ACS_BSRVH2O--ALLAREA_', {'weight': 0.9845431191035937}), ('SP_ACS_BSRVH2O--RURAL_', 'SP_ACS_BSRVSAN--RURAL_', {'weight': 0.9993870670585654}), ('SP_ACS_BSRVH2O--RURAL_', 'SP_ACS_BSRVSAN--ALLAREA_', {'weight': 0.9981585674472662}), ('SP_ACS_BSRVH2O--RURAL_', 'SP_ACS_BSRVSAN--URBAN_', {'weight': 0.9956970210621433}), ('SP_ACS_BSRVH2O--ALLAREA_', 'SI_COV_UEMP--BOTHSEX_', {'weight': 0.9473684210526315}), ('SP_ACS_BSRVH2O--ALLAREA_', 'SP_ACS_BSRVH2O--URBAN_', {'weight': 0.7766910229606618}), ('SP_ACS_BSRVH2O--ALLAREA_', 'SP_ACS_BSRVSAN--RURAL_', {'weight': 0.9839396601936324}), ('SP_ACS_BSRVH2O--ALLAREA_', 'SP_ACS_BSRVSAN--ALLAREA_', {'weight': 0.9851476896973218}), ('SP_ACS_BSRVH2O--ALLAREA_', 'SP_ACS_BSRVSAN--URBAN_', {'weight': 0.9807016203071841}), ('SP_ACS_BSRVSAN--RURAL_', 'SI_COV_UEMP--BOTHSEX_', {'weight': 0.9746794344808964}), ('SP_ACS_BSRVSAN--RURAL_', 'SP_ACS_BSRVH2O--URBAN_', {'weight': 0.7905694150420948}), ('SP_ACS_BSRVSAN--RURAL_', 'SP_ACS_BSRVSAN--ALLAREA_', {'weight': 0.9987737579691625}), ('SP_ACS_BSRVSAN--RURAL_', 'SP_ACS_BSRVSAN--URBAN_', {'weight': 0.9963167462326071}), ('SP_ACS_BSRVSAN--ALLAREA_', 'SI_COV_UEMP--BOTHSEX_', {'weight': 0.9746794344808964}), ('SP_ACS_BSRVSAN--ALLAREA_', 'SP_ACS_BSRVH2O--URBAN_', {'weight': 0.7915400347017366}), ('SP_ACS_BSRVSAN--ALLAREA_', 'SP_ACS_BSRVSAN--URBAN_', {'weight': 0.995692675429474}), ('SP_ACS_BSRVSAN--URBAN_', 'SI_COV_UEMP--BOTHSEX_', {'weight': 0.9746794344808964}), ('SP_ACS_BSRVSAN--URBAN_', 'SP_ACS_BSRVH2O--URBAN_', {'weight': 0.7934920476158721}), ('SI_COV_SOCAST--_T_', 'SI_COV_SOCAST--Q1_', {'weight': 1.0}), ('SI_COV_SOCAST--_T_', 'SI_COV_SOCINS--Q1_', {'weight': 0.9}), ('SI_COV_SOCAST--_T_', 'SI_COV_SOCINS--_T_', {'weight': 0.9}), ('SI_COV_SOCAST--Q1_', 'SI_COV_SOCINS--Q1_', {'weight': 0.9}), ('SI_COV_SOCAST--Q1_', 'SI_COV_SOCINS--_T_', {'weight': 0.9}), ('SI_COV_SOCINS--Q1_', 'SI_COV_SOCINS--_T_', {'weight': 0.8})])"
      ]
     },
     "execution_count": 36,
     "metadata": {},
     "output_type": "execute_result"
    }
   ],
   "source": [
    "#Create network (values above 0.6 correlation)\n",
    "for m in range(0,len(netNode)):\n",
    "    for n in range(1+m,len(netNode)):\n",
    "        if netval[m,n]>0.6:\n",
    "            G.add_edge(netNode[m],netNode[n],weight=netval[m,n])\n",
    "G.edges(data=True)"
   ]
  },
  {
   "cell_type": "code",
   "execution_count": 37,
   "id": "410e995c",
   "metadata": {},
   "outputs": [
    {
     "data": {
      "image/png": "[encoded data removed]",
      "text/plain": [
       "<Figure size 432x288 with 1 Axes>"
      ]
     },
     "metadata": {},
     "output_type": "display_data"
    }
   ],
   "source": [
    "nx.draw_networkx(G,with_labels=True)"
   ]
  },
  {
   "cell_type": "code",
   "execution_count": 39,
   "id": "f06ad8b5",
   "metadata": {},
   "outputs": [
    {
     "data": {
      "text/plain": [
       "{'SI_POV_DAY1--': 0.27648525965922566,\n",
       " 'SI_POV_EMP1--25+_': 0.27759766999678986,\n",
       " 'SI_POV_EMP1--25+_BOTHSEX_': 0.2775447060963596,\n",
       " 'SI_POV_EMP1--15+_': 0.27770884925533,\n",
       " 'SI_POV_EMP1--15+_BOTHSEX_': 0.27770884925533,\n",
       " 'SI_POV_EMP1--15+_FEMALE_': 0.27770884925533,\n",
       " 'SI_POV_EMP1--25+_FEMALE_': 0.2776343691542247,\n",
       " 'SI_POV_EMP1--15-24_': 0.2773888456828404,\n",
       " 'SI_POV_EMP1--15-24_MALE_': 0.276160805237234,\n",
       " 'SI_POV_EMP1--15+_MALE_': 0.27770884925533,\n",
       " 'SI_POV_EMP1--25+_MALE_': 0.2775976699967898,\n",
       " 'SI_POV_EMP1--15-24_BOTHSEX_': 0.2769120943085364,\n",
       " 'SI_POV_EMP1--15-24_FEMALE_': 0.27738884568284045,\n",
       " 'SI_COV_LMKT--Q1_': 1.4363934569770736e-06,\n",
       " 'SP_ACS_BSRVH2O--RURAL_': 2.387287109356473e-06,\n",
       " 'SP_ACS_BSRVH2O--ALLAREA_': 2.3531740975297934e-06,\n",
       " 'SP_ACS_BSRVSAN--RURAL_': 2.3873959900522186e-06,\n",
       " 'SP_ACS_BSRVSAN--ALLAREA_': 2.3873970981694833e-06,\n",
       " 'SP_ACS_BSRVSAN--URBAN_': 2.3845760374189126e-06,\n",
       " 'SI_COV_SOCAST--_T_': 4.600406948054038e-11,\n",
       " 'SI_COV_SOCAST--Q1_': 4.600406948054038e-11,\n",
       " 'SI_COV_SOCINS--Q1_': 4.351922708221897e-11,\n",
       " 'SI_COV_SOCINS--_T_': 4.351922708221897e-11,\n",
       " 'SI_COV_UEMP--BOTHSEX_': 2.0077325236339595e-06,\n",
       " 'SP_ACS_BSRVH2O--URBAN_': 1.6336930882939556e-06}"
      ]
     },
     "execution_count": 39,
     "metadata": {},
     "output_type": "execute_result"
    }
   ],
   "source": [
    "nx.eigenvector_centrality(G,weight='weight',max_iter=1000,tol=1e-6)"
   ]
  },
  {
   "cell_type": "code",
   "execution_count": null,
   "id": "ed9c38e3",
   "metadata": {},
   "outputs": [],
   "source": []
  }
 ],
 "metadata": {
  "kernelspec": {
   "display_name": "Python 3 (ipykernel)",
   "language": "python",
   "name": "python3"
  },
  "language_info": {
   "codemirror_mode": {
    "name": "ipython",
    "version": 3
   },
   "file_extension": ".py",
   "mimetype": "text/x-python",
   "name": "python",
   "nbconvert_exporter": "python",
   "pygments_lexer": "ipython3",
   "version": "3.9.7"
  }
 },
 "nbformat": 4,
 "nbformat_minor": 5
}
