{
 "cells": [
  {
   "cell_type": "markdown",
   "id": "048c8820",
   "metadata": {},
   "source": [
    "## 1. Imports"
   ]
  },
  {
   "cell_type": "code",
   "execution_count": null,
   "id": "c8c0e61d",
   "metadata": {},
   "outputs": [],
   "source": [
    "import pandas as pd\n",
    "import numpy as np\n",
    "import seaborn as sns\n",
    "import matplotlib.pyplot as plt\n",
    "from sklearn.model_selection import train_test_split\n",
    "from sklearn.linear_model import LinearRegression\n",
    "import statsmodels.api as sm"
   ]
  },
  {
   "cell_type": "markdown",
   "id": "ea1157f2",
   "metadata": {},
   "source": [
    "## 2. Load and Clean Data"
   ]
  },
  {
   "cell_type": "code",
   "execution_count": null,
   "id": "a1e4af2b",
   "metadata": {},
   "outputs": [],
   "source": [
    "# Load Excel data\n",
    "df = pd.read_excel('Model Titles.xlsx', sheet_name='Model Data')\n",
    "\n",
    "# Replace infinite values with NaN and drop rows with missing values\n",
    "df = df.replace([np.inf, -np.inf], np.nan).dropna()"
   ]
  },
  {
   "cell_type": "markdown",
   "id": "e19091d8",
   "metadata": {},
   "source": [
    "## 3. Log-transform Relevant Columns"
   ]
  },
  {
   "cell_type": "code",
   "execution_count": null,
   "id": "bc5b11ee",
   "metadata": {},
   "outputs": [],
   "source": [
    "df['New Release Revenue'] = np.log(df['New Release Revenue'])\n",
    "df['UK Box Office'] = np.log(df['UK Box Office'])\n",
    "df['Days to Release'] = np.log(df['Days to Release'])"
   ]
  },
  {
   "cell_type": "markdown",
   "id": "19a1babb",
   "metadata": {},
   "source": [
    "## 4. Quick Data Inspection"
   ]
  },
  {
   "cell_type": "code",
   "execution_count": null,
   "id": "9741544a",
   "metadata": {},
   "outputs": [],
   "source": [
    "print(df.head())\n",
    "print(df.shape)\n",
    "print(df.describe())\n",
    "print(df.dtypes)"
   ]
  },
  {
   "cell_type": "markdown",
   "id": "5c28325b",
   "metadata": {},
   "source": [
    "## 5. Visualise Relationships"
   ]
  },
  {
   "cell_type": "code",
   "execution_count": null,
   "id": "c490f6e2",
   "metadata": {},
   "outputs": [],
   "source": [
    "sns.pairplot(df, hue='Genre')\n",
    "plt.show()"
   ]
  },
  {
   "cell_type": "markdown",
   "id": "692322ae",
   "metadata": {},
   "source": [
    "## 6. Prepare Data for Modelling"
   ]
  },
  {
   "cell_type": "code",
   "execution_count": null,
   "id": "12945882",
   "metadata": {},
   "outputs": [],
   "source": [
    "# Select relevant columns\n",
    "df2 = df[['Genre', 'Days to Release', 'New Release Revenue', 'UK Box Office']]\n",
    "\n",
    "# Display correlation between revenue and box office\n",
    "print(df2[['New Release Revenue', 'UK Box Office']].corr())"
   ]
  },
  {
   "cell_type": "markdown",
   "id": "0053523a",
   "metadata": {},
   "source": [
    "## 7. Feature Engineering"
   ]
  },
  {
   "cell_type": "code",
   "execution_count": null,
   "id": "75a9e2a3",
   "metadata": {},
   "outputs": [],
   "source": [
    "# Define features and target\n",
    "X = df2[['Genre', 'Days to Release', 'UK Box Office']]\n",
    "X = pd.get_dummies(X, drop_first=True, dtype=int)\n",
    "y = df2['New Release Revenue']"
   ]
  },
  {
   "cell_type": "markdown",
   "id": "477910f2",
   "metadata": {},
   "source": [
    "## 8. Train-Test Split"
   ]
  },
  {
   "cell_type": "code",
   "execution_count": null,
   "id": "0ab096a2",
   "metadata": {},
   "outputs": [],
   "source": [
    "X_train, X_test, y_train, y_test = train_test_split(X, y, test_size=0.1, random_state=10)"
   ]
  },
  {
   "cell_type": "markdown",
   "id": "2ac7f738",
   "metadata": {},
   "source": [
    "## 9. Fit Linear Regression Model"
   ]
  },
  {
   "cell_type": "code",
   "execution_count": null,
   "id": "6b5ae96c",
   "metadata": {},
   "outputs": [],
   "source": [
    "model = LinearRegression()\n",
    "model.fit(X_train, y_train)"
   ]
  },
  {
   "cell_type": "markdown",
   "id": "8f2bbe12",
   "metadata": {},
   "source": [
    "## 10. Model Summary"
   ]
  },
  {
   "cell_type": "code",
   "execution_count": null,
   "id": "d66e0491",
   "metadata": {},
   "outputs": [],
   "source": [
    "print(\"Intercept:\", model.intercept_)\n",
    "coeff_parameter = pd.DataFrame(model.coef_, X.columns, columns=['Coefficient'])\n",
    "print(coeff_parameter)"
   ]
  },
  {
   "cell_type": "markdown",
   "id": "91552271",
   "metadata": {},
   "source": [
    "## 11. Predictions and Visualisation"
   ]
  },
  {
   "cell_type": "code",
   "execution_count": null,
   "id": "868a40c2",
   "metadata": {},
   "outputs": [],
   "source": [
    "predictions = model.predict(X_test)\n",
    "\n",
    "# Plot actual vs predicted values\n",
    "sns.regplot(x=y_test, y=predictions)\n",
    "plt.xlabel(\"Actual New Release Revenue\")\n",
    "plt.ylabel(\"Predicted New Release Revenue\")\n",
    "plt.title(\"Actual vs Predicted Revenue\")\n",
    "plt.show()"
   ]
  },
  {
   "cell_type": "markdown",
   "id": "88439c70",
   "metadata": {},
   "source": [
    "## 12. OLS Summary using Statsmodels"
   ]
  },
  {
   "cell_type": "code",
   "execution_count": null,
   "id": "1320bb0e",
   "metadata": {},
   "outputs": [],
   "source": [
    "X_train_sm = sm.add_constant(X_train)\n",
    "ols_model = sm.OLS(y_train, X_train_sm).fit()\n",
    "print(ols_model.summary())"
   ]
  },
  {
   "cell_type": "markdown",
   "id": "885980d1",
   "metadata": {},
   "source": [
    "## 13. Example Prediction"
   ]
  },
  {
   "cell_type": "code",
   "execution_count": null,
   "id": "2b386d14",
   "metadata": {},
   "outputs": [],
   "source": [
    "# Create a test example for prediction\n",
    "test_example = {\n",
    "    'Days to Release': [np.log(45)],\n",
    "    'UK Box Office': [np.log(5500000)],\n",
    "    'Genre_1': [0],\n",
    "    'Genre_2': [0],\n",
    "    'Genre_3': [0],\n",
    "    'Genre_4': [0],\n",
    "    'Genre_5': [1]\n",
    "}\n",
    "dftest = pd.DataFrame(test_example)\n",
    "\n",
    "# Predict and convert back from log scale\n",
    "predicted_log = model.predict(dftest)\n",
    "predicted_value = np.exp(predicted_log)\n",
    "print(\"Predicted New Release Revenue:\", predicted_value)"
   ]
  }
 ],
 "metadata": {
  "kernelspec": {
   "display_name": "Insights",
   "language": "python",
   "name": "python3"
  },
  "language_info": {
   "codemirror_mode": {
    "name": "ipython",
    "version": 3
   },
   "file_extension": ".py",
   "mimetype": "text/x-python",
   "name": "python",
   "nbconvert_exporter": "python",
   "pygments_lexer": "ipython3",
   "version": "3.13.1"
  }
 },
 "nbformat": 4,
 "nbformat_minor": 5
}
