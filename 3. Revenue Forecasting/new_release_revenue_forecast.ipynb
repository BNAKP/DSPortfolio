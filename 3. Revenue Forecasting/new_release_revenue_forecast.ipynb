{
 "cells": [
  {
   "cell_type": "markdown",
   "id": "048c8820",
   "metadata": {},
   "source": [
    "## 1. Imports"
   ]
  },
  {
   "cell_type": "code",
   "execution_count": 1,
   "id": "c8c0e61d",
   "metadata": {},
   "outputs": [],
   "source": [
    "import pandas as pd\n",
    "import numpy as np\n",
    "import seaborn as sns\n",
    "import matplotlib.pyplot as plt\n",
    "from sklearn.model_selection import train_test_split\n",
    "from sklearn.linear_model import LinearRegression\n",
    "import statsmodels.api as sm"
   ]
  },
  {
   "cell_type": "markdown",
   "id": "ea1157f2",
   "metadata": {},
   "source": [
    "## 2. Load and Clean Data"
   ]
  },
  {
   "cell_type": "code",
   "execution_count": 2,
   "id": "a1e4af2b",
   "metadata": {},
   "outputs": [],
   "source": [
    "# Load Excel data\n",
    "df = pd.read_excel('Model Titles.xlsx', sheet_name='Model Data')\n",
    "\n",
    "# Replace infinite values with NaN and drop rows with missing values\n",
    "df = df.replace([np.inf, -np.inf], np.nan).dropna()"
   ]
  },
  {
   "cell_type": "code",
   "execution_count": 4,
   "id": "2c5ce68e",
   "metadata": {},
   "outputs": [
    {
     "data": {
      "text/html": [
       "<div>\n",
       "<style scoped>\n",
       "    .dataframe tbody tr th:only-of-type {\n",
       "        vertical-align: middle;\n",
       "    }\n",
       "\n",
       "    .dataframe tbody tr th {\n",
       "        vertical-align: top;\n",
       "    }\n",
       "\n",
       "    .dataframe thead th {\n",
       "        text-align: right;\n",
       "    }\n",
       "</style>\n",
       "<table border=\"1\" class=\"dataframe\">\n",
       "  <thead>\n",
       "    <tr style=\"text-align: right;\">\n",
       "      <th></th>\n",
       "      <th>Title</th>\n",
       "      <th>Studio</th>\n",
       "      <th>Genre</th>\n",
       "      <th>Days to Premium</th>\n",
       "      <th>Premium Rev</th>\n",
       "      <th>UK Box Office</th>\n",
       "    </tr>\n",
       "  </thead>\n",
       "  <tbody>\n",
       "    <tr>\n",
       "      <th>0</th>\n",
       "      <td>BARBIE</td>\n",
       "      <td>WARNER BROS DISCOVERY</td>\n",
       "      <td>Drama/Comedy</td>\n",
       "      <td>52</td>\n",
       "      <td>12030879.00</td>\n",
       "      <td>1.262455e+08</td>\n",
       "    </tr>\n",
       "    <tr>\n",
       "      <th>1</th>\n",
       "      <td>DUNE: PART TWO</td>\n",
       "      <td>WARNER BROS DISCOVERY</td>\n",
       "      <td>PG-13 Action</td>\n",
       "      <td>45</td>\n",
       "      <td>9373622.00</td>\n",
       "      <td>5.223853e+07</td>\n",
       "    </tr>\n",
       "    <tr>\n",
       "      <th>2</th>\n",
       "      <td>WONKA</td>\n",
       "      <td>WARNER BROS DISCOVERY</td>\n",
       "      <td>PG-13 Action</td>\n",
       "      <td>45</td>\n",
       "      <td>8700146.00</td>\n",
       "      <td>8.363752e+07</td>\n",
       "    </tr>\n",
       "    <tr>\n",
       "      <th>3</th>\n",
       "      <td>THE SUPER MARIO BROS. MOVIE</td>\n",
       "      <td>UNIVERSAL</td>\n",
       "      <td>Animated Original</td>\n",
       "      <td>45</td>\n",
       "      <td>8022201.00</td>\n",
       "      <td>7.191417e+07</td>\n",
       "    </tr>\n",
       "    <tr>\n",
       "      <th>4</th>\n",
       "      <td>ELVIS (2022)</td>\n",
       "      <td>WARNER BROS DISCOVERY</td>\n",
       "      <td>Drama/Comedy</td>\n",
       "      <td>45</td>\n",
       "      <td>7442316.00</td>\n",
       "      <td>3.665885e+07</td>\n",
       "    </tr>\n",
       "    <tr>\n",
       "      <th>...</th>\n",
       "      <td>...</td>\n",
       "      <td>...</td>\n",
       "      <td>...</td>\n",
       "      <td>...</td>\n",
       "      <td>...</td>\n",
       "      <td>...</td>\n",
       "    </tr>\n",
       "    <tr>\n",
       "      <th>74</th>\n",
       "      <td>BLINK TWICE</td>\n",
       "      <td>MGM</td>\n",
       "      <td>Drama/Comedy</td>\n",
       "      <td>31</td>\n",
       "      <td>227381.22</td>\n",
       "      <td>4.339380e+06</td>\n",
       "    </tr>\n",
       "    <tr>\n",
       "      <th>75</th>\n",
       "      <td>NIGHT SWIM</td>\n",
       "      <td>UNIVERSAL</td>\n",
       "      <td>Horror</td>\n",
       "      <td>31</td>\n",
       "      <td>217277.48</td>\n",
       "      <td>1.780888e+06</td>\n",
       "    </tr>\n",
       "    <tr>\n",
       "      <th>76</th>\n",
       "      <td>MAXXXINE</td>\n",
       "      <td>UNIVERSAL</td>\n",
       "      <td>Horror</td>\n",
       "      <td>45</td>\n",
       "      <td>135927.83</td>\n",
       "      <td>1.320135e+06</td>\n",
       "    </tr>\n",
       "    <tr>\n",
       "      <th>77</th>\n",
       "      <td>EMILY</td>\n",
       "      <td>WARNER BROS DISCOVERY</td>\n",
       "      <td>Drama/Comedy</td>\n",
       "      <td>31</td>\n",
       "      <td>116987.39</td>\n",
       "      <td>1.291658e+06</td>\n",
       "    </tr>\n",
       "    <tr>\n",
       "      <th>78</th>\n",
       "      <td>POLITE SOCIETY</td>\n",
       "      <td>UNIVERSAL</td>\n",
       "      <td>PG-13 Action</td>\n",
       "      <td>31</td>\n",
       "      <td>55287.28</td>\n",
       "      <td>6.576443e+05</td>\n",
       "    </tr>\n",
       "  </tbody>\n",
       "</table>\n",
       "<p>79 rows × 6 columns</p>\n",
       "</div>"
      ],
      "text/plain": [
       "                          Title                 Studio              Genre  \\\n",
       "0                        BARBIE  WARNER BROS DISCOVERY       Drama/Comedy   \n",
       "1                DUNE: PART TWO  WARNER BROS DISCOVERY       PG-13 Action   \n",
       "2                         WONKA  WARNER BROS DISCOVERY       PG-13 Action   \n",
       "3   THE SUPER MARIO BROS. MOVIE              UNIVERSAL  Animated Original   \n",
       "4                  ELVIS (2022)  WARNER BROS DISCOVERY       Drama/Comedy   \n",
       "..                          ...                    ...                ...   \n",
       "74                  BLINK TWICE                    MGM       Drama/Comedy   \n",
       "75                   NIGHT SWIM              UNIVERSAL             Horror   \n",
       "76                     MAXXXINE              UNIVERSAL             Horror   \n",
       "77                        EMILY  WARNER BROS DISCOVERY       Drama/Comedy   \n",
       "78               POLITE SOCIETY              UNIVERSAL       PG-13 Action   \n",
       "\n",
       "    Days to Premium  Premium Rev  UK Box Office  \n",
       "0                52  12030879.00   1.262455e+08  \n",
       "1                45   9373622.00   5.223853e+07  \n",
       "2                45   8700146.00   8.363752e+07  \n",
       "3                45   8022201.00   7.191417e+07  \n",
       "4                45   7442316.00   3.665885e+07  \n",
       "..              ...          ...            ...  \n",
       "74               31    227381.22   4.339380e+06  \n",
       "75               31    217277.48   1.780888e+06  \n",
       "76               45    135927.83   1.320135e+06  \n",
       "77               31    116987.39   1.291658e+06  \n",
       "78               31     55287.28   6.576443e+05  \n",
       "\n",
       "[79 rows x 6 columns]"
      ]
     },
     "execution_count": 4,
     "metadata": {},
     "output_type": "execute_result"
    }
   ],
   "source": [
    "df"
   ]
  },
  {
   "cell_type": "markdown",
   "id": "e19091d8",
   "metadata": {},
   "source": [
    "## 3. Log-transform Relevant Columns"
   ]
  },
  {
   "cell_type": "code",
   "execution_count": 3,
   "id": "bc5b11ee",
   "metadata": {},
   "outputs": [
    {
     "ename": "KeyError",
     "evalue": "'New Release Revenue'",
     "output_type": "error",
     "traceback": [
      "\u001b[31m---------------------------------------------------------------------------\u001b[39m",
      "\u001b[31mKeyError\u001b[39m                                  Traceback (most recent call last)",
      "\u001b[36mFile \u001b[39m\u001b[32mc:\\Users\\206814435\\AppData\\Local\\miniconda3\\envs\\Insights\\Lib\\site-packages\\pandas\\core\\indexes\\base.py:3805\u001b[39m, in \u001b[36mIndex.get_loc\u001b[39m\u001b[34m(self, key)\u001b[39m\n\u001b[32m   3804\u001b[39m \u001b[38;5;28;01mtry\u001b[39;00m:\n\u001b[32m-> \u001b[39m\u001b[32m3805\u001b[39m     \u001b[38;5;28;01mreturn\u001b[39;00m \u001b[38;5;28;43mself\u001b[39;49m\u001b[43m.\u001b[49m\u001b[43m_engine\u001b[49m\u001b[43m.\u001b[49m\u001b[43mget_loc\u001b[49m\u001b[43m(\u001b[49m\u001b[43mcasted_key\u001b[49m\u001b[43m)\u001b[49m\n\u001b[32m   3806\u001b[39m \u001b[38;5;28;01mexcept\u001b[39;00m \u001b[38;5;167;01mKeyError\u001b[39;00m \u001b[38;5;28;01mas\u001b[39;00m err:\n",
      "\u001b[36mFile \u001b[39m\u001b[32mindex.pyx:167\u001b[39m, in \u001b[36mpandas._libs.index.IndexEngine.get_loc\u001b[39m\u001b[34m()\u001b[39m\n",
      "\u001b[36mFile \u001b[39m\u001b[32mindex.pyx:196\u001b[39m, in \u001b[36mpandas._libs.index.IndexEngine.get_loc\u001b[39m\u001b[34m()\u001b[39m\n",
      "\u001b[36mFile \u001b[39m\u001b[32mpandas\\\\_libs\\\\hashtable_class_helper.pxi:7081\u001b[39m, in \u001b[36mpandas._libs.hashtable.PyObjectHashTable.get_item\u001b[39m\u001b[34m()\u001b[39m\n",
      "\u001b[36mFile \u001b[39m\u001b[32mpandas\\\\_libs\\\\hashtable_class_helper.pxi:7089\u001b[39m, in \u001b[36mpandas._libs.hashtable.PyObjectHashTable.get_item\u001b[39m\u001b[34m()\u001b[39m\n",
      "\u001b[31mKeyError\u001b[39m: 'New Release Revenue'",
      "\nThe above exception was the direct cause of the following exception:\n",
      "\u001b[31mKeyError\u001b[39m                                  Traceback (most recent call last)",
      "\u001b[36mCell\u001b[39m\u001b[36m \u001b[39m\u001b[32mIn[3]\u001b[39m\u001b[32m, line 1\u001b[39m\n\u001b[32m----> \u001b[39m\u001b[32m1\u001b[39m df[\u001b[33m'\u001b[39m\u001b[33mNew Release Revenue\u001b[39m\u001b[33m'\u001b[39m] = np.log(\u001b[43mdf\u001b[49m\u001b[43m[\u001b[49m\u001b[33;43m'\u001b[39;49m\u001b[33;43mNew Release Revenue\u001b[39;49m\u001b[33;43m'\u001b[39;49m\u001b[43m]\u001b[49m)\n\u001b[32m      2\u001b[39m df[\u001b[33m'\u001b[39m\u001b[33mUK Box Office\u001b[39m\u001b[33m'\u001b[39m] = np.log(df[\u001b[33m'\u001b[39m\u001b[33mUK Box Office\u001b[39m\u001b[33m'\u001b[39m])\n\u001b[32m      3\u001b[39m df[\u001b[33m'\u001b[39m\u001b[33mDays to Release\u001b[39m\u001b[33m'\u001b[39m] = np.log(df[\u001b[33m'\u001b[39m\u001b[33mDays to Release\u001b[39m\u001b[33m'\u001b[39m])\n",
      "\u001b[36mFile \u001b[39m\u001b[32mc:\\Users\\206814435\\AppData\\Local\\miniconda3\\envs\\Insights\\Lib\\site-packages\\pandas\\core\\frame.py:4102\u001b[39m, in \u001b[36mDataFrame.__getitem__\u001b[39m\u001b[34m(self, key)\u001b[39m\n\u001b[32m   4100\u001b[39m \u001b[38;5;28;01mif\u001b[39;00m \u001b[38;5;28mself\u001b[39m.columns.nlevels > \u001b[32m1\u001b[39m:\n\u001b[32m   4101\u001b[39m     \u001b[38;5;28;01mreturn\u001b[39;00m \u001b[38;5;28mself\u001b[39m._getitem_multilevel(key)\n\u001b[32m-> \u001b[39m\u001b[32m4102\u001b[39m indexer = \u001b[38;5;28;43mself\u001b[39;49m\u001b[43m.\u001b[49m\u001b[43mcolumns\u001b[49m\u001b[43m.\u001b[49m\u001b[43mget_loc\u001b[49m\u001b[43m(\u001b[49m\u001b[43mkey\u001b[49m\u001b[43m)\u001b[49m\n\u001b[32m   4103\u001b[39m \u001b[38;5;28;01mif\u001b[39;00m is_integer(indexer):\n\u001b[32m   4104\u001b[39m     indexer = [indexer]\n",
      "\u001b[36mFile \u001b[39m\u001b[32mc:\\Users\\206814435\\AppData\\Local\\miniconda3\\envs\\Insights\\Lib\\site-packages\\pandas\\core\\indexes\\base.py:3812\u001b[39m, in \u001b[36mIndex.get_loc\u001b[39m\u001b[34m(self, key)\u001b[39m\n\u001b[32m   3807\u001b[39m     \u001b[38;5;28;01mif\u001b[39;00m \u001b[38;5;28misinstance\u001b[39m(casted_key, \u001b[38;5;28mslice\u001b[39m) \u001b[38;5;129;01mor\u001b[39;00m (\n\u001b[32m   3808\u001b[39m         \u001b[38;5;28misinstance\u001b[39m(casted_key, abc.Iterable)\n\u001b[32m   3809\u001b[39m         \u001b[38;5;129;01mand\u001b[39;00m \u001b[38;5;28many\u001b[39m(\u001b[38;5;28misinstance\u001b[39m(x, \u001b[38;5;28mslice\u001b[39m) \u001b[38;5;28;01mfor\u001b[39;00m x \u001b[38;5;129;01min\u001b[39;00m casted_key)\n\u001b[32m   3810\u001b[39m     ):\n\u001b[32m   3811\u001b[39m         \u001b[38;5;28;01mraise\u001b[39;00m InvalidIndexError(key)\n\u001b[32m-> \u001b[39m\u001b[32m3812\u001b[39m     \u001b[38;5;28;01mraise\u001b[39;00m \u001b[38;5;167;01mKeyError\u001b[39;00m(key) \u001b[38;5;28;01mfrom\u001b[39;00m\u001b[38;5;250m \u001b[39m\u001b[34;01merr\u001b[39;00m\n\u001b[32m   3813\u001b[39m \u001b[38;5;28;01mexcept\u001b[39;00m \u001b[38;5;167;01mTypeError\u001b[39;00m:\n\u001b[32m   3814\u001b[39m     \u001b[38;5;66;03m# If we have a listlike key, _check_indexing_error will raise\u001b[39;00m\n\u001b[32m   3815\u001b[39m     \u001b[38;5;66;03m#  InvalidIndexError. Otherwise we fall through and re-raise\u001b[39;00m\n\u001b[32m   3816\u001b[39m     \u001b[38;5;66;03m#  the TypeError.\u001b[39;00m\n\u001b[32m   3817\u001b[39m     \u001b[38;5;28mself\u001b[39m._check_indexing_error(key)\n",
      "\u001b[31mKeyError\u001b[39m: 'New Release Revenue'"
     ]
    }
   ],
   "source": [
    "df['New Release Revenue'] = np.log(df['New Release Revenue'])\n",
    "df['UK Box Office'] = np.log(df['UK Box Office'])\n",
    "df['Days to Release'] = np.log(df['Days to Release'])"
   ]
  },
  {
   "cell_type": "markdown",
   "id": "19a1babb",
   "metadata": {},
   "source": [
    "## 4. Quick Data Inspection"
   ]
  },
  {
   "cell_type": "code",
   "execution_count": null,
   "id": "9741544a",
   "metadata": {},
   "outputs": [],
   "source": [
    "print(df.head())\n",
    "print(df.shape)\n",
    "print(df.describe())\n",
    "print(df.dtypes)"
   ]
  },
  {
   "cell_type": "markdown",
   "id": "5c28325b",
   "metadata": {},
   "source": [
    "## 5. Visualise Relationships"
   ]
  },
  {
   "cell_type": "code",
   "execution_count": null,
   "id": "c490f6e2",
   "metadata": {},
   "outputs": [],
   "source": [
    "sns.pairplot(df, hue='Genre')\n",
    "plt.show()"
   ]
  },
  {
   "cell_type": "markdown",
   "id": "692322ae",
   "metadata": {},
   "source": [
    "## 6. Prepare Data for Modelling"
   ]
  },
  {
   "cell_type": "code",
   "execution_count": null,
   "id": "12945882",
   "metadata": {},
   "outputs": [],
   "source": [
    "# Select relevant columns\n",
    "df2 = df[['Genre', 'Days to Release', 'New Release Revenue', 'UK Box Office']]\n",
    "\n",
    "# Display correlation between revenue and box office\n",
    "print(df2[['New Release Revenue', 'UK Box Office']].corr())"
   ]
  },
  {
   "cell_type": "markdown",
   "id": "0053523a",
   "metadata": {},
   "source": [
    "## 7. Feature Engineering"
   ]
  },
  {
   "cell_type": "code",
   "execution_count": null,
   "id": "75a9e2a3",
   "metadata": {},
   "outputs": [],
   "source": [
    "# Define features and target\n",
    "X = df2[['Genre', 'Days to Release', 'UK Box Office']]\n",
    "X = pd.get_dummies(X, drop_first=True, dtype=int)\n",
    "y = df2['New Release Revenue']"
   ]
  },
  {
   "cell_type": "markdown",
   "id": "477910f2",
   "metadata": {},
   "source": [
    "## 8. Train-Test Split"
   ]
  },
  {
   "cell_type": "code",
   "execution_count": null,
   "id": "0ab096a2",
   "metadata": {},
   "outputs": [],
   "source": [
    "X_train, X_test, y_train, y_test = train_test_split(X, y, test_size=0.1, random_state=10)"
   ]
  },
  {
   "cell_type": "markdown",
   "id": "2ac7f738",
   "metadata": {},
   "source": [
    "## 9. Fit Linear Regression Model"
   ]
  },
  {
   "cell_type": "code",
   "execution_count": null,
   "id": "6b5ae96c",
   "metadata": {},
   "outputs": [],
   "source": [
    "model = LinearRegression()\n",
    "model.fit(X_train, y_train)"
   ]
  },
  {
   "cell_type": "markdown",
   "id": "8f2bbe12",
   "metadata": {},
   "source": [
    "## 10. Model Summary"
   ]
  },
  {
   "cell_type": "code",
   "execution_count": null,
   "id": "d66e0491",
   "metadata": {},
   "outputs": [],
   "source": [
    "print(\"Intercept:\", model.intercept_)\n",
    "coeff_parameter = pd.DataFrame(model.coef_, X.columns, columns=['Coefficient'])\n",
    "print(coeff_parameter)"
   ]
  },
  {
   "cell_type": "markdown",
   "id": "91552271",
   "metadata": {},
   "source": [
    "## 11. Predictions and Visualisation"
   ]
  },
  {
   "cell_type": "code",
   "execution_count": null,
   "id": "868a40c2",
   "metadata": {},
   "outputs": [],
   "source": [
    "predictions = model.predict(X_test)\n",
    "\n",
    "# Plot actual vs predicted values\n",
    "sns.regplot(x=y_test, y=predictions)\n",
    "plt.xlabel(\"Actual New Release Revenue\")\n",
    "plt.ylabel(\"Predicted New Release Revenue\")\n",
    "plt.title(\"Actual vs Predicted Revenue\")\n",
    "plt.show()"
   ]
  },
  {
   "cell_type": "markdown",
   "id": "88439c70",
   "metadata": {},
   "source": [
    "## 12. OLS Summary using Statsmodels"
   ]
  },
  {
   "cell_type": "code",
   "execution_count": null,
   "id": "1320bb0e",
   "metadata": {},
   "outputs": [],
   "source": [
    "X_train_sm = sm.add_constant(X_train)\n",
    "ols_model = sm.OLS(y_train, X_train_sm).fit()\n",
    "print(ols_model.summary())"
   ]
  },
  {
   "cell_type": "markdown",
   "id": "885980d1",
   "metadata": {},
   "source": [
    "## 13. Example Prediction"
   ]
  },
  {
   "cell_type": "code",
   "execution_count": null,
   "id": "2b386d14",
   "metadata": {},
   "outputs": [],
   "source": [
    "# Create a test example for prediction\n",
    "test_example = {\n",
    "    'Days to Release': [np.log(45)],\n",
    "    'UK Box Office': [np.log(5500000)],\n",
    "    'Genre_1': [0],\n",
    "    'Genre_2': [0],\n",
    "    'Genre_3': [0],\n",
    "    'Genre_4': [0],\n",
    "    'Genre_5': [1]\n",
    "}\n",
    "dftest = pd.DataFrame(test_example)\n",
    "\n",
    "# Predict and convert back from log scale\n",
    "predicted_log = model.predict(dftest)\n",
    "predicted_value = np.exp(predicted_log)\n",
    "print(\"Predicted New Release Revenue:\", predicted_value)"
   ]
  }
 ],
 "metadata": {
  "kernelspec": {
   "display_name": "Insights",
   "language": "python",
   "name": "python3"
  },
  "language_info": {
   "codemirror_mode": {
    "name": "ipython",
    "version": 3
   },
   "file_extension": ".py",
   "mimetype": "text/x-python",
   "name": "python",
   "nbconvert_exporter": "python",
   "pygments_lexer": "ipython3",
   "version": "3.13.1"
  }
 },
 "nbformat": 4,
 "nbformat_minor": 5
}
